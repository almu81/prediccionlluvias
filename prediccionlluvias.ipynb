{
  "metadata": {
    "kernelspec": {
      "name": "python",
      "display_name": "Python (Pyodide)",
      "language": "python"
    },
    "language_info": {
      "codemirror_mode": {
        "name": "python",
        "version": 3
      },
      "file_extension": ".py",
      "mimetype": "text/x-python",
      "name": "python",
      "nbconvert_exporter": "python",
      "pygments_lexer": "ipython3",
      "version": "3.8"
    }
  },
  "nbformat_minor": 4,
  "nbformat": 4,
  "cells": [
    {
      "cell_type": "code",
      "source": "# All Libraries required for this lab are listed below. The libraries pre-installed on Skills Network Labs are commented.\n# !mamba install -qy pandas==1.3.4 numpy==1.21.4 seaborn==0.9.0 matplotlib==3.5.0 scikit-learn==0.20.1\n# Note: If your environment doesn't support \"!mamba install\", use \"!pip install\"",
      "metadata": {
        "trusted": true
      },
      "outputs": [],
      "execution_count": 1
    },
    {
      "cell_type": "code",
      "source": "# Surpress warnings:\ndef warn(*args, **kwargs):\n    pass\nimport warnings\nwarnings.warn = warn",
      "metadata": {
        "trusted": true
      },
      "outputs": [],
      "execution_count": 2
    },
    {
      "cell_type": "code",
      "source": "import pandas as pd\nfrom sklearn.linear_model import LogisticRegression\nfrom sklearn.linear_model import LinearRegression\nfrom sklearn import preprocessing\nimport numpy as np\nfrom sklearn.neighbors import KNeighborsClassifier\nfrom sklearn.model_selection import train_test_split\nfrom sklearn.neighbors import KNeighborsClassifier\nfrom sklearn.tree import DecisionTreeClassifier\nfrom sklearn import svm\nfrom sklearn.metrics import jaccard_score\nfrom sklearn.metrics import f1_score\nfrom sklearn.metrics import log_loss\nfrom sklearn.metrics import confusion_matrix, accuracy_score\nimport sklearn.metrics as metrics",
      "metadata": {
        "trusted": true
      },
      "outputs": [],
      "execution_count": 3
    },
    {
      "cell_type": "code",
      "source": "from pyodide.http import pyfetch\n\nasync def download(url, filename):\n    response = await pyfetch(url)\n    if response.status == 200:\n        with open(filename, \"wb\") as f:\n            f.write(await response.bytes())",
      "metadata": {
        "trusted": true
      },
      "outputs": [],
      "execution_count": 4
    },
    {
      "cell_type": "code",
      "source": "path='https://cf-courses-data.s3.us.cloud-object-storage.appdomain.cloud/IBMDeveloperSkillsNetwork-ML0101EN-SkillUp/labs/ML-FinalAssignment/Weather_Data.csv'",
      "metadata": {
        "trusted": true
      },
      "outputs": [],
      "execution_count": 5
    },
    {
      "cell_type": "code",
      "source": "await download(path, \"Weather_Data.csv\")\nfilename =\"Weather_Data.csv\"",
      "metadata": {
        "trusted": true
      },
      "outputs": [],
      "execution_count": 6
    },
    {
      "cell_type": "code",
      "source": "df = pd.read_csv(\"Weather_Data.csv\")",
      "metadata": {
        "trusted": true
      },
      "outputs": [],
      "execution_count": 7
    },
    {
      "cell_type": "code",
      "source": "#filepath = \"https://cf-courses-data.s3.us.cloud-object-storage.appdomain.cloud/IBMDeveloperSkillsNetwork-ML0101EN-SkillUp/labs/ML-FinalAssignment/Weather_Data.csv\"\n#df = pd.read_csv(filepath)",
      "metadata": {
        "trusted": true
      },
      "outputs": [],
      "execution_count": 8
    },
    {
      "cell_type": "code",
      "source": "df.head()",
      "metadata": {
        "trusted": true
      },
      "outputs": [
        {
          "execution_count": 9,
          "output_type": "execute_result",
          "data": {
            "text/plain": "       Date  MinTemp  MaxTemp  Rainfall  Evaporation  Sunshine WindGustDir  \\\n0  2/1/2008     19.5     22.4      15.6          6.2       0.0           W   \n1  2/2/2008     19.5     25.6       6.0          3.4       2.7           W   \n2  2/3/2008     21.6     24.5       6.6          2.4       0.1           W   \n3  2/4/2008     20.2     22.8      18.8          2.2       0.0           W   \n4  2/5/2008     19.7     25.7      77.4          4.8       0.0           W   \n\n   WindGustSpeed WindDir9am WindDir3pm  ...  Humidity9am  Humidity3pm  \\\n0             41          S        SSW  ...           92           84   \n1             41          W          E  ...           83           73   \n2             41        ESE        ESE  ...           88           86   \n3             41        NNE          E  ...           83           90   \n4             41        NNE          W  ...           88           74   \n\n   Pressure9am  Pressure3pm  Cloud9am  Cloud3pm  Temp9am  Temp3pm  RainToday  \\\n0       1017.6       1017.4         8         8     20.7     20.9        Yes   \n1       1017.9       1016.4         7         7     22.4     24.8        Yes   \n2       1016.7       1015.6         7         8     23.5     23.0        Yes   \n3       1014.2       1011.8         8         8     21.4     20.9        Yes   \n4       1008.3       1004.8         8         8     22.5     25.5        Yes   \n\n   RainTomorrow  \n0           Yes  \n1           Yes  \n2           Yes  \n3           Yes  \n4           Yes  \n\n[5 rows x 22 columns]",
            "text/html": "<div>\n<style scoped>\n    .dataframe tbody tr th:only-of-type {\n        vertical-align: middle;\n    }\n\n    .dataframe tbody tr th {\n        vertical-align: top;\n    }\n\n    .dataframe thead th {\n        text-align: right;\n    }\n</style>\n<table border=\"1\" class=\"dataframe\">\n  <thead>\n    <tr style=\"text-align: right;\">\n      <th></th>\n      <th>Date</th>\n      <th>MinTemp</th>\n      <th>MaxTemp</th>\n      <th>Rainfall</th>\n      <th>Evaporation</th>\n      <th>Sunshine</th>\n      <th>WindGustDir</th>\n      <th>WindGustSpeed</th>\n      <th>WindDir9am</th>\n      <th>WindDir3pm</th>\n      <th>...</th>\n      <th>Humidity9am</th>\n      <th>Humidity3pm</th>\n      <th>Pressure9am</th>\n      <th>Pressure3pm</th>\n      <th>Cloud9am</th>\n      <th>Cloud3pm</th>\n      <th>Temp9am</th>\n      <th>Temp3pm</th>\n      <th>RainToday</th>\n      <th>RainTomorrow</th>\n    </tr>\n  </thead>\n  <tbody>\n    <tr>\n      <th>0</th>\n      <td>2/1/2008</td>\n      <td>19.5</td>\n      <td>22.4</td>\n      <td>15.6</td>\n      <td>6.2</td>\n      <td>0.0</td>\n      <td>W</td>\n      <td>41</td>\n      <td>S</td>\n      <td>SSW</td>\n      <td>...</td>\n      <td>92</td>\n      <td>84</td>\n      <td>1017.6</td>\n      <td>1017.4</td>\n      <td>8</td>\n      <td>8</td>\n      <td>20.7</td>\n      <td>20.9</td>\n      <td>Yes</td>\n      <td>Yes</td>\n    </tr>\n    <tr>\n      <th>1</th>\n      <td>2/2/2008</td>\n      <td>19.5</td>\n      <td>25.6</td>\n      <td>6.0</td>\n      <td>3.4</td>\n      <td>2.7</td>\n      <td>W</td>\n      <td>41</td>\n      <td>W</td>\n      <td>E</td>\n      <td>...</td>\n      <td>83</td>\n      <td>73</td>\n      <td>1017.9</td>\n      <td>1016.4</td>\n      <td>7</td>\n      <td>7</td>\n      <td>22.4</td>\n      <td>24.8</td>\n      <td>Yes</td>\n      <td>Yes</td>\n    </tr>\n    <tr>\n      <th>2</th>\n      <td>2/3/2008</td>\n      <td>21.6</td>\n      <td>24.5</td>\n      <td>6.6</td>\n      <td>2.4</td>\n      <td>0.1</td>\n      <td>W</td>\n      <td>41</td>\n      <td>ESE</td>\n      <td>ESE</td>\n      <td>...</td>\n      <td>88</td>\n      <td>86</td>\n      <td>1016.7</td>\n      <td>1015.6</td>\n      <td>7</td>\n      <td>8</td>\n      <td>23.5</td>\n      <td>23.0</td>\n      <td>Yes</td>\n      <td>Yes</td>\n    </tr>\n    <tr>\n      <th>3</th>\n      <td>2/4/2008</td>\n      <td>20.2</td>\n      <td>22.8</td>\n      <td>18.8</td>\n      <td>2.2</td>\n      <td>0.0</td>\n      <td>W</td>\n      <td>41</td>\n      <td>NNE</td>\n      <td>E</td>\n      <td>...</td>\n      <td>83</td>\n      <td>90</td>\n      <td>1014.2</td>\n      <td>1011.8</td>\n      <td>8</td>\n      <td>8</td>\n      <td>21.4</td>\n      <td>20.9</td>\n      <td>Yes</td>\n      <td>Yes</td>\n    </tr>\n    <tr>\n      <th>4</th>\n      <td>2/5/2008</td>\n      <td>19.7</td>\n      <td>25.7</td>\n      <td>77.4</td>\n      <td>4.8</td>\n      <td>0.0</td>\n      <td>W</td>\n      <td>41</td>\n      <td>NNE</td>\n      <td>W</td>\n      <td>...</td>\n      <td>88</td>\n      <td>74</td>\n      <td>1008.3</td>\n      <td>1004.8</td>\n      <td>8</td>\n      <td>8</td>\n      <td>22.5</td>\n      <td>25.5</td>\n      <td>Yes</td>\n      <td>Yes</td>\n    </tr>\n  </tbody>\n</table>\n<p>5 rows × 22 columns</p>\n</div>"
          },
          "metadata": {}
        }
      ],
      "execution_count": 9
    },
    {
      "cell_type": "code",
      "source": "df_sydney_processed = pd.get_dummies(data=df, columns=['RainToday', 'WindGustDir', 'WindDir9am', 'WindDir3pm'])",
      "metadata": {
        "trusted": true
      },
      "outputs": [],
      "execution_count": 10
    },
    {
      "cell_type": "code",
      "source": "df_sydney_processed.replace(['No', 'Yes'], [0,1], inplace=True)",
      "metadata": {
        "trusted": true
      },
      "outputs": [],
      "execution_count": 11
    },
    {
      "cell_type": "code",
      "source": "df_sydney_processed.drop('Date',axis=1,inplace=True)",
      "metadata": {
        "trusted": true
      },
      "outputs": [],
      "execution_count": 12
    },
    {
      "cell_type": "code",
      "source": "df_sydney_processed = df_sydney_processed.astype(float)",
      "metadata": {
        "trusted": true
      },
      "outputs": [],
      "execution_count": 13
    },
    {
      "cell_type": "code",
      "source": "features = df_sydney_processed.drop(columns='RainTomorrow', axis=1)\nY = df_sydney_processed['RainTomorrow']",
      "metadata": {
        "trusted": true
      },
      "outputs": [],
      "execution_count": 14
    },
    {
      "cell_type": "code",
      "source": "import pandas as pd\nfrom sklearn.model_selection import train_test_split\n\n# 1. Carga tus datos (¡RECUERDA USAR EL NOMBRE CORRECTO DE TU ARCHIVO!)\ndata = pd.read_csv('Weather_Data.csv')\n\n# 2. Define X e y (¡RECUERDA USAR EL NOMBRE CORRECTO DE TU COLUMNA OBJETIVO!)\nX = data.drop('RainTomorrow', axis=1)  # Características (¡ADAPTA 'RainTomorrow' AL NOMBRE REAL!)\ny = data['RainTomorrow']  # Variable objetivo (¡ADAPTA 'RainTomorrow' AL NOMBRE REAL!)\n\n# 3. Divide los datos (PREGUNTA 1)\nX_train, X_test, y_train, y_test = train_test_split(X, y, test_size=0.2, random_state=10)\n\nprint(\"Datos divididos exitosamente.\")\nprint(\"X_train shape:\", X_train.shape)\nprint(\"y_train shape:\", y_train.shape)\nprint(\"X_test shape:\", X_test.shape)\nprint(\"y_test shape:\", y_test.shape)\n\n# ... (resto de tu código)",
      "metadata": {
        "trusted": true
      },
      "outputs": [
        {
          "name": "stdout",
          "text": "Datos divididos exitosamente.\nX_train shape: (2616, 21)\ny_train shape: (2616,)\nX_test shape: (655, 21)\ny_test shape: (655,)\n",
          "output_type": "stream"
        }
      ],
      "execution_count": 15
    },
    {
      "cell_type": "code",
      "source": "import pandas as pd\ndata = pd.read_csv('Weather_Data.csv')  # Reemplaza 'your_data.csv' con tu archivo real\nprint(data.head())",
      "metadata": {
        "trusted": true
      },
      "outputs": [
        {
          "name": "stdout",
          "text": "       Date  MinTemp  MaxTemp  Rainfall  Evaporation  Sunshine WindGustDir  \\\n0  2/1/2008     19.5     22.4      15.6          6.2       0.0           W   \n1  2/2/2008     19.5     25.6       6.0          3.4       2.7           W   \n2  2/3/2008     21.6     24.5       6.6          2.4       0.1           W   \n3  2/4/2008     20.2     22.8      18.8          2.2       0.0           W   \n4  2/5/2008     19.7     25.7      77.4          4.8       0.0           W   \n\n   WindGustSpeed WindDir9am WindDir3pm  ...  Humidity9am  Humidity3pm  \\\n0             41          S        SSW  ...           92           84   \n1             41          W          E  ...           83           73   \n2             41        ESE        ESE  ...           88           86   \n3             41        NNE          E  ...           83           90   \n4             41        NNE          W  ...           88           74   \n\n   Pressure9am  Pressure3pm  Cloud9am  Cloud3pm  Temp9am  Temp3pm  RainToday  \\\n0       1017.6       1017.4         8         8     20.7     20.9        Yes   \n1       1017.9       1016.4         7         7     22.4     24.8        Yes   \n2       1016.7       1015.6         7         8     23.5     23.0        Yes   \n3       1014.2       1011.8         8         8     21.4     20.9        Yes   \n4       1008.3       1004.8         8         8     22.5     25.5        Yes   \n\n   RainTomorrow  \n0           Yes  \n1           Yes  \n2           Yes  \n3           Yes  \n4           Yes  \n\n[5 rows x 22 columns]\n",
          "output_type": "stream"
        }
      ],
      "execution_count": 21
    },
    {
      "cell_type": "code",
      "source": "print(data.dtypes)",
      "metadata": {
        "trusted": true
      },
      "outputs": [
        {
          "name": "stdout",
          "text": "Date              object\nMinTemp          float64\nMaxTemp          float64\nRainfall         float64\nEvaporation      float64\nSunshine         float64\nWindGustDir       object\nWindGustSpeed      int64\nWindDir9am        object\nWindDir3pm        object\nWindSpeed9am       int64\nWindSpeed3pm       int64\nHumidity9am        int64\nHumidity3pm        int64\nPressure9am      float64\nPressure3pm      float64\nCloud9am           int64\nCloud3pm           int64\nTemp9am          float64\nTemp3pm          float64\nRainToday         object\nRainTomorrow      object\ndtype: object\n",
          "output_type": "stream"
        }
      ],
      "execution_count": 22
    },
    {
      "cell_type": "code",
      "source": "print(data.describe(include='all'))",
      "metadata": {
        "trusted": true
      },
      "outputs": [
        {
          "name": "stdout",
          "text": "            Date      MinTemp      MaxTemp     Rainfall  Evaporation  \\\ncount       3271  3271.000000  3271.000000  3271.000000  3271.000000   \nunique      3271          NaN          NaN          NaN          NaN   \ntop     2/1/2008          NaN          NaN          NaN          NaN   \nfreq           1          NaN          NaN          NaN          NaN   \nmean         NaN    14.877102    23.005564     3.342158     5.175787   \nstd          NaN     4.554710     4.483752     9.917746     2.757684   \nmin          NaN     4.300000    11.700000     0.000000     0.000000   \n25%          NaN    11.000000    19.600000     0.000000     3.200000   \n50%          NaN    14.900000    22.800000     0.000000     4.800000   \n75%          NaN    18.800000    26.000000     1.400000     7.000000   \nmax          NaN    27.600000    45.800000   119.400000    18.400000   \n\n           Sunshine WindGustDir  WindGustSpeed WindDir9am WindDir3pm  ...  \\\ncount   3271.000000        3271    3271.000000       3271       3271  ...   \nunique          NaN          16            NaN         16         16  ...   \ntop             NaN           W            NaN          W          E  ...   \nfreq            NaN        1425            NaN       1260        624  ...   \nmean       7.168970         NaN      41.476307        NaN        NaN  ...   \nstd        3.815966         NaN      10.806951        NaN        NaN  ...   \nmin        0.000000         NaN      17.000000        NaN        NaN  ...   \n25%        4.250000         NaN      35.000000        NaN        NaN  ...   \n50%        8.300000         NaN      41.000000        NaN        NaN  ...   \n75%       10.200000         NaN      44.000000        NaN        NaN  ...   \nmax       13.600000         NaN      96.000000        NaN        NaN  ...   \n\n        Humidity9am  Humidity3pm  Pressure9am  Pressure3pm     Cloud9am  \\\ncount   3271.000000  3271.000000  3271.000000  3271.000000  3271.000000   \nunique          NaN          NaN          NaN          NaN          NaN   \ntop             NaN          NaN          NaN          NaN          NaN   \nfreq            NaN          NaN          NaN          NaN          NaN   \nmean      68.243962    54.698563  1018.334424  1016.003085     4.318557   \nstd       15.086127    16.279241     7.020090     7.019915     2.526923   \nmin       19.000000    10.000000   986.700000   989.800000     0.000000   \n25%       58.000000    44.000000  1013.700000  1011.300000     2.000000   \n50%       69.000000    56.000000  1018.600000  1016.300000     5.000000   \n75%       80.000000    64.000000  1023.100000  1020.800000     7.000000   \nmax      100.000000    99.000000  1039.000000  1036.700000     9.000000   \n\n           Cloud3pm      Temp9am      Temp3pm  RainToday  RainTomorrow  \ncount   3271.000000  3271.000000  3271.000000       3271          3271  \nunique          NaN          NaN          NaN          2             2  \ntop             NaN          NaN          NaN         No            No  \nfreq            NaN          NaN          NaN       2422          2422  \nmean       4.176093    17.821461    21.543656        NaN           NaN  \nstd        2.411274     4.894316     4.297053        NaN           NaN  \nmin        0.000000     6.400000    10.200000        NaN           NaN  \n25%        2.000000    13.800000    18.400000        NaN           NaN  \n50%        4.000000    18.200000    21.300000        NaN           NaN  \n75%        7.000000    21.700000    24.500000        NaN           NaN  \nmax        8.000000    36.500000    44.700000        NaN           NaN  \n\n[11 rows x 22 columns]\n",
          "output_type": "stream"
        }
      ],
      "execution_count": 23
    },
    {
      "cell_type": "code",
      "source": "data.dropna(inplace=True)  # Esto eliminará todas las filas con cualquier valor NaN",
      "metadata": {
        "trusted": true
      },
      "outputs": [],
      "execution_count": 26
    },
    {
      "cell_type": "code",
      "source": "print(data.describe(include='all'))",
      "metadata": {
        "trusted": true
      },
      "outputs": [
        {
          "name": "stdout",
          "text": "            Date      MinTemp      MaxTemp     Rainfall  Evaporation  \\\ncount       3271  3271.000000  3271.000000  3271.000000  3271.000000   \nunique      3271          NaN          NaN          NaN          NaN   \ntop     2/1/2008          NaN          NaN          NaN          NaN   \nfreq           1          NaN          NaN          NaN          NaN   \nmean         NaN    14.877102    23.005564     3.342158     5.175787   \nstd          NaN     4.554710     4.483752     9.917746     2.757684   \nmin          NaN     4.300000    11.700000     0.000000     0.000000   \n25%          NaN    11.000000    19.600000     0.000000     3.200000   \n50%          NaN    14.900000    22.800000     0.000000     4.800000   \n75%          NaN    18.800000    26.000000     1.400000     7.000000   \nmax          NaN    27.600000    45.800000   119.400000    18.400000   \n\n           Sunshine WindGustDir  WindGustSpeed WindDir9am WindDir3pm  ...  \\\ncount   3271.000000        3271    3271.000000       3271       3271  ...   \nunique          NaN          16            NaN         16         16  ...   \ntop             NaN           W            NaN          W          E  ...   \nfreq            NaN        1425            NaN       1260        624  ...   \nmean       7.168970         NaN      41.476307        NaN        NaN  ...   \nstd        3.815966         NaN      10.806951        NaN        NaN  ...   \nmin        0.000000         NaN      17.000000        NaN        NaN  ...   \n25%        4.250000         NaN      35.000000        NaN        NaN  ...   \n50%        8.300000         NaN      41.000000        NaN        NaN  ...   \n75%       10.200000         NaN      44.000000        NaN        NaN  ...   \nmax       13.600000         NaN      96.000000        NaN        NaN  ...   \n\n        Humidity9am  Humidity3pm  Pressure9am  Pressure3pm     Cloud9am  \\\ncount   3271.000000  3271.000000  3271.000000  3271.000000  3271.000000   \nunique          NaN          NaN          NaN          NaN          NaN   \ntop             NaN          NaN          NaN          NaN          NaN   \nfreq            NaN          NaN          NaN          NaN          NaN   \nmean      68.243962    54.698563  1018.334424  1016.003085     4.318557   \nstd       15.086127    16.279241     7.020090     7.019915     2.526923   \nmin       19.000000    10.000000   986.700000   989.800000     0.000000   \n25%       58.000000    44.000000  1013.700000  1011.300000     2.000000   \n50%       69.000000    56.000000  1018.600000  1016.300000     5.000000   \n75%       80.000000    64.000000  1023.100000  1020.800000     7.000000   \nmax      100.000000    99.000000  1039.000000  1036.700000     9.000000   \n\n           Cloud3pm      Temp9am      Temp3pm  RainToday  RainTomorrow  \ncount   3271.000000  3271.000000  3271.000000       3271          3271  \nunique          NaN          NaN          NaN          2             2  \ntop             NaN          NaN          NaN         No            No  \nfreq            NaN          NaN          NaN       2422          2422  \nmean       4.176093    17.821461    21.543656        NaN           NaN  \nstd        2.411274     4.894316     4.297053        NaN           NaN  \nmin        0.000000     6.400000    10.200000        NaN           NaN  \n25%        2.000000    13.800000    18.400000        NaN           NaN  \n50%        4.000000    18.200000    21.300000        NaN           NaN  \n75%        7.000000    21.700000    24.500000        NaN           NaN  \nmax        8.000000    36.500000    44.700000        NaN           NaN  \n\n[11 rows x 22 columns]\n",
          "output_type": "stream"
        }
      ],
      "execution_count": 28
    },
    {
      "cell_type": "code",
      "source": "data.dropna(inplace=True)",
      "metadata": {
        "trusted": true
      },
      "outputs": [],
      "execution_count": 29
    },
    {
      "cell_type": "code",
      "source": "data.dropna(axis=1, inplace=True)",
      "metadata": {
        "trusted": true
      },
      "outputs": [],
      "execution_count": 30
    },
    {
      "cell_type": "code",
      "source": "print(data.describe(include='all'))",
      "metadata": {
        "trusted": true
      },
      "outputs": [
        {
          "name": "stdout",
          "text": "            Date      MinTemp      MaxTemp     Rainfall  Evaporation  \\\ncount       3271  3271.000000  3271.000000  3271.000000  3271.000000   \nunique      3271          NaN          NaN          NaN          NaN   \ntop     2/1/2008          NaN          NaN          NaN          NaN   \nfreq           1          NaN          NaN          NaN          NaN   \nmean         NaN    14.877102    23.005564     3.342158     5.175787   \nstd          NaN     4.554710     4.483752     9.917746     2.757684   \nmin          NaN     4.300000    11.700000     0.000000     0.000000   \n25%          NaN    11.000000    19.600000     0.000000     3.200000   \n50%          NaN    14.900000    22.800000     0.000000     4.800000   \n75%          NaN    18.800000    26.000000     1.400000     7.000000   \nmax          NaN    27.600000    45.800000   119.400000    18.400000   \n\n           Sunshine WindGustDir  WindGustSpeed WindDir9am WindDir3pm  ...  \\\ncount   3271.000000        3271    3271.000000       3271       3271  ...   \nunique          NaN          16            NaN         16         16  ...   \ntop             NaN           W            NaN          W          E  ...   \nfreq            NaN        1425            NaN       1260        624  ...   \nmean       7.168970         NaN      41.476307        NaN        NaN  ...   \nstd        3.815966         NaN      10.806951        NaN        NaN  ...   \nmin        0.000000         NaN      17.000000        NaN        NaN  ...   \n25%        4.250000         NaN      35.000000        NaN        NaN  ...   \n50%        8.300000         NaN      41.000000        NaN        NaN  ...   \n75%       10.200000         NaN      44.000000        NaN        NaN  ...   \nmax       13.600000         NaN      96.000000        NaN        NaN  ...   \n\n        Humidity9am  Humidity3pm  Pressure9am  Pressure3pm     Cloud9am  \\\ncount   3271.000000  3271.000000  3271.000000  3271.000000  3271.000000   \nunique          NaN          NaN          NaN          NaN          NaN   \ntop             NaN          NaN          NaN          NaN          NaN   \nfreq            NaN          NaN          NaN          NaN          NaN   \nmean      68.243962    54.698563  1018.334424  1016.003085     4.318557   \nstd       15.086127    16.279241     7.020090     7.019915     2.526923   \nmin       19.000000    10.000000   986.700000   989.800000     0.000000   \n25%       58.000000    44.000000  1013.700000  1011.300000     2.000000   \n50%       69.000000    56.000000  1018.600000  1016.300000     5.000000   \n75%       80.000000    64.000000  1023.100000  1020.800000     7.000000   \nmax      100.000000    99.000000  1039.000000  1036.700000     9.000000   \n\n           Cloud3pm      Temp9am      Temp3pm  RainToday  RainTomorrow  \ncount   3271.000000  3271.000000  3271.000000       3271          3271  \nunique          NaN          NaN          NaN          2             2  \ntop             NaN          NaN          NaN         No            No  \nfreq            NaN          NaN          NaN       2422          2422  \nmean       4.176093    17.821461    21.543656        NaN           NaN  \nstd        2.411274     4.894316     4.297053        NaN           NaN  \nmin        0.000000     6.400000    10.200000        NaN           NaN  \n25%        2.000000    13.800000    18.400000        NaN           NaN  \n50%        4.000000    18.200000    21.300000        NaN           NaN  \n75%        7.000000    21.700000    24.500000        NaN           NaN  \nmax        8.000000    36.500000    44.700000        NaN           NaN  \n\n[11 rows x 22 columns]\n",
          "output_type": "stream"
        }
      ],
      "execution_count": 31
    },
    {
      "cell_type": "code",
      "source": "print(data.isnull().all())      ",
      "metadata": {
        "trusted": true
      },
      "outputs": [
        {
          "name": "stdout",
          "text": "MinTemp          False\nMaxTemp          False\nRainfall         False\nEvaporation      False\nSunshine         False\nWindGustDir      False\nWindGustSpeed    False\nWindDir9am       False\nWindDir3pm       False\nWindSpeed9am     False\nWindSpeed3pm     False\nHumidity9am      False\nHumidity3pm      False\nPressure9am      False\nPressure3pm      False\nCloud9am         False\nCloud3pm         False\nTemp9am          False\nTemp3pm          False\nRainToday        False\nRainTomorrow     False\nYear             False\nMonth            False\nDay              False\ndtype: bool\n",
          "output_type": "stream"
        }
      ],
      "execution_count": 33
    },
    {
      "cell_type": "code",
      "source": "print(data.isnull().any())",
      "metadata": {
        "trusted": true
      },
      "outputs": [
        {
          "name": "stdout",
          "text": "MinTemp          False\nMaxTemp          False\nRainfall         False\nEvaporation      False\nSunshine         False\nWindGustDir      False\nWindGustSpeed    False\nWindDir9am       False\nWindDir3pm       False\nWindSpeed9am     False\nWindSpeed3pm     False\nHumidity9am      False\nHumidity3pm      False\nPressure9am      False\nPressure3pm      False\nCloud9am         False\nCloud3pm         False\nTemp9am          False\nTemp3pm          False\nRainToday        False\nRainTomorrow     False\nYear             False\nMonth            False\nDay              False\ndtype: bool\n",
          "output_type": "stream"
        }
      ],
      "execution_count": 34
    },
    {
      "cell_type": "code",
      "source": "",
      "metadata": {
        "trusted": true
      },
      "outputs": [],
      "execution_count": null
    },
    {
      "cell_type": "code",
      "source": "",
      "metadata": {
        "trusted": true
      },
      "outputs": [],
      "execution_count": null
    },
    {
      "cell_type": "code",
      "source": "",
      "metadata": {
        "trusted": true
      },
      "outputs": [],
      "execution_count": null
    },
    {
      "cell_type": "code",
      "source": "",
      "metadata": {
        "trusted": true
      },
      "outputs": [],
      "execution_count": null
    },
    {
      "cell_type": "code",
      "source": "",
      "metadata": {
        "trusted": true
      },
      "outputs": [],
      "execution_count": null
    }
  ]
}